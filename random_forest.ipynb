{
 "cells": [
  {
   "cell_type": "markdown",
   "id": "23431795",
   "metadata": {},
   "source": [
    "## Random forest cheat sheet"
   ]
  },
  {
   "cell_type": "markdown",
   "id": "2002ca0f",
   "metadata": {},
   "source": [
    "<b style=\"color:red\">Note: I am not investigating if random forest is proper algorithm for the dataset I am using, I'm just implementing random forest and experiment with it<b>"
   ]
  },
  {
   "cell_type": "code",
   "execution_count": 134,
   "id": "8f5c79e5",
   "metadata": {},
   "outputs": [],
   "source": [
    "import pandas as pd\n",
    "from sklearn.datasets import load_diabetes\n",
    "from sklearn.ensemble import RandomForestRegressor\n",
    "from sklearn.model_selection import train_test_split, GridSearchCV, RandomizedSearchCV\n",
    "from sklearn.tree import plot_tree\n",
    "import matplotlib.pyplot as plt\n",
    "import seaborn as sns"
   ]
  },
  {
   "cell_type": "markdown",
   "id": "362d66f1",
   "metadata": {},
   "source": [
    "### Data"
   ]
  },
  {
   "cell_type": "markdown",
   "id": "78e56511",
   "metadata": {},
   "source": [
    "Regression prediction of diabetes progression measurement based on age, sex, body mass index, average blood pressure, and six blood serum measurements, obtained for 442 diabetes patients. "
   ]
  },
  {
   "cell_type": "code",
   "execution_count": 85,
   "id": "2807228e",
   "metadata": {},
   "outputs": [],
   "source": [
    "data = load_diabetes()\n",
    "X = pd.DataFrame(data=data[\"data\"],columns = data[\"feature_names\"])\n",
    "y = data[\"target\"]"
   ]
  },
  {
   "cell_type": "code",
   "execution_count": 86,
   "id": "32b5249b",
   "metadata": {},
   "outputs": [
    {
     "data": {
      "text/plain": [
       "(442, 10)"
      ]
     },
     "execution_count": 86,
     "metadata": {},
     "output_type": "execute_result"
    }
   ],
   "source": [
    "X.shape"
   ]
  },
  {
   "cell_type": "code",
   "execution_count": 87,
   "id": "edf406a3",
   "metadata": {},
   "outputs": [
    {
     "data": {
      "text/html": [
       "<div>\n",
       "<style scoped>\n",
       "    .dataframe tbody tr th:only-of-type {\n",
       "        vertical-align: middle;\n",
       "    }\n",
       "\n",
       "    .dataframe tbody tr th {\n",
       "        vertical-align: top;\n",
       "    }\n",
       "\n",
       "    .dataframe thead th {\n",
       "        text-align: right;\n",
       "    }\n",
       "</style>\n",
       "<table border=\"1\" class=\"dataframe\">\n",
       "  <thead>\n",
       "    <tr style=\"text-align: right;\">\n",
       "      <th></th>\n",
       "      <th>age</th>\n",
       "      <th>sex</th>\n",
       "      <th>bmi</th>\n",
       "      <th>bp</th>\n",
       "      <th>s1</th>\n",
       "      <th>s2</th>\n",
       "      <th>s3</th>\n",
       "      <th>s4</th>\n",
       "      <th>s5</th>\n",
       "      <th>s6</th>\n",
       "    </tr>\n",
       "  </thead>\n",
       "  <tbody>\n",
       "    <tr>\n",
       "      <th>0</th>\n",
       "      <td>0.038076</td>\n",
       "      <td>0.050680</td>\n",
       "      <td>0.061696</td>\n",
       "      <td>0.021872</td>\n",
       "      <td>-0.044223</td>\n",
       "      <td>-0.034821</td>\n",
       "      <td>-0.043401</td>\n",
       "      <td>-0.002592</td>\n",
       "      <td>0.019907</td>\n",
       "      <td>-0.017646</td>\n",
       "    </tr>\n",
       "    <tr>\n",
       "      <th>1</th>\n",
       "      <td>-0.001882</td>\n",
       "      <td>-0.044642</td>\n",
       "      <td>-0.051474</td>\n",
       "      <td>-0.026328</td>\n",
       "      <td>-0.008449</td>\n",
       "      <td>-0.019163</td>\n",
       "      <td>0.074412</td>\n",
       "      <td>-0.039493</td>\n",
       "      <td>-0.068332</td>\n",
       "      <td>-0.092204</td>\n",
       "    </tr>\n",
       "    <tr>\n",
       "      <th>2</th>\n",
       "      <td>0.085299</td>\n",
       "      <td>0.050680</td>\n",
       "      <td>0.044451</td>\n",
       "      <td>-0.005670</td>\n",
       "      <td>-0.045599</td>\n",
       "      <td>-0.034194</td>\n",
       "      <td>-0.032356</td>\n",
       "      <td>-0.002592</td>\n",
       "      <td>0.002861</td>\n",
       "      <td>-0.025930</td>\n",
       "    </tr>\n",
       "    <tr>\n",
       "      <th>3</th>\n",
       "      <td>-0.089063</td>\n",
       "      <td>-0.044642</td>\n",
       "      <td>-0.011595</td>\n",
       "      <td>-0.036656</td>\n",
       "      <td>0.012191</td>\n",
       "      <td>0.024991</td>\n",
       "      <td>-0.036038</td>\n",
       "      <td>0.034309</td>\n",
       "      <td>0.022688</td>\n",
       "      <td>-0.009362</td>\n",
       "    </tr>\n",
       "    <tr>\n",
       "      <th>4</th>\n",
       "      <td>0.005383</td>\n",
       "      <td>-0.044642</td>\n",
       "      <td>-0.036385</td>\n",
       "      <td>0.021872</td>\n",
       "      <td>0.003935</td>\n",
       "      <td>0.015596</td>\n",
       "      <td>0.008142</td>\n",
       "      <td>-0.002592</td>\n",
       "      <td>-0.031988</td>\n",
       "      <td>-0.046641</td>\n",
       "    </tr>\n",
       "  </tbody>\n",
       "</table>\n",
       "</div>"
      ],
      "text/plain": [
       "        age       sex       bmi        bp        s1        s2        s3  \\\n",
       "0  0.038076  0.050680  0.061696  0.021872 -0.044223 -0.034821 -0.043401   \n",
       "1 -0.001882 -0.044642 -0.051474 -0.026328 -0.008449 -0.019163  0.074412   \n",
       "2  0.085299  0.050680  0.044451 -0.005670 -0.045599 -0.034194 -0.032356   \n",
       "3 -0.089063 -0.044642 -0.011595 -0.036656  0.012191  0.024991 -0.036038   \n",
       "4  0.005383 -0.044642 -0.036385  0.021872  0.003935  0.015596  0.008142   \n",
       "\n",
       "         s4        s5        s6  \n",
       "0 -0.002592  0.019907 -0.017646  \n",
       "1 -0.039493 -0.068332 -0.092204  \n",
       "2 -0.002592  0.002861 -0.025930  \n",
       "3  0.034309  0.022688 -0.009362  \n",
       "4 -0.002592 -0.031988 -0.046641  "
      ]
     },
     "execution_count": 87,
     "metadata": {},
     "output_type": "execute_result"
    }
   ],
   "source": [
    "X.head()"
   ]
  },
  {
   "cell_type": "markdown",
   "id": "3caac4a3",
   "metadata": {},
   "source": [
    "Target varibale is value between 25 and 346 and it indicates measurement of diabeters progression, less is slower progression and bigger value is more rapid progression"
   ]
  },
  {
   "cell_type": "code",
   "execution_count": 88,
   "id": "45cce8d1",
   "metadata": {},
   "outputs": [
    {
     "data": {
      "text/plain": [
       "array([151.,  75., 141., 206., 135.,  97., 138.,  63., 110., 310.])"
      ]
     },
     "execution_count": 88,
     "metadata": {},
     "output_type": "execute_result"
    }
   ],
   "source": [
    "y[:10]"
   ]
  },
  {
   "cell_type": "code",
   "execution_count": 89,
   "id": "2dd0f805",
   "metadata": {},
   "outputs": [
    {
     "name": "stdout",
     "output_type": "stream",
     "text": [
      "Target value max: 346.0\n",
      "Target value min: 25.0\n",
      "Target value mean: 152.13348416289594\n"
     ]
    }
   ],
   "source": [
    "print(\"Target value max:\",y.max())\n",
    "print(\"Target value min:\",y.min())\n",
    "print(\"Target value mean:\",y.mean())"
   ]
  },
  {
   "cell_type": "markdown",
   "id": "f8069256",
   "metadata": {},
   "source": [
    "### Random forest for regression"
   ]
  },
  {
   "cell_type": "code",
   "execution_count": 90,
   "id": "0b118331",
   "metadata": {},
   "outputs": [],
   "source": [
    "forest = RandomForestRegressor(random_state=1)"
   ]
  },
  {
   "cell_type": "code",
   "execution_count": 91,
   "id": "fc6384c4",
   "metadata": {},
   "outputs": [],
   "source": [
    "train_X, test_X, train_y, test_y = train_test_split(X,y)"
   ]
  },
  {
   "cell_type": "code",
   "execution_count": 92,
   "id": "e52dc9c1",
   "metadata": {},
   "outputs": [
    {
     "data": {
      "text/html": [
       "<style>#sk-container-id-11 {color: black;background-color: white;}#sk-container-id-11 pre{padding: 0;}#sk-container-id-11 div.sk-toggleable {background-color: white;}#sk-container-id-11 label.sk-toggleable__label {cursor: pointer;display: block;width: 100%;margin-bottom: 0;padding: 0.3em;box-sizing: border-box;text-align: center;}#sk-container-id-11 label.sk-toggleable__label-arrow:before {content: \"▸\";float: left;margin-right: 0.25em;color: #696969;}#sk-container-id-11 label.sk-toggleable__label-arrow:hover:before {color: black;}#sk-container-id-11 div.sk-estimator:hover label.sk-toggleable__label-arrow:before {color: black;}#sk-container-id-11 div.sk-toggleable__content {max-height: 0;max-width: 0;overflow: hidden;text-align: left;background-color: #f0f8ff;}#sk-container-id-11 div.sk-toggleable__content pre {margin: 0.2em;color: black;border-radius: 0.25em;background-color: #f0f8ff;}#sk-container-id-11 input.sk-toggleable__control:checked~div.sk-toggleable__content {max-height: 200px;max-width: 100%;overflow: auto;}#sk-container-id-11 input.sk-toggleable__control:checked~label.sk-toggleable__label-arrow:before {content: \"▾\";}#sk-container-id-11 div.sk-estimator input.sk-toggleable__control:checked~label.sk-toggleable__label {background-color: #d4ebff;}#sk-container-id-11 div.sk-label input.sk-toggleable__control:checked~label.sk-toggleable__label {background-color: #d4ebff;}#sk-container-id-11 input.sk-hidden--visually {border: 0;clip: rect(1px 1px 1px 1px);clip: rect(1px, 1px, 1px, 1px);height: 1px;margin: -1px;overflow: hidden;padding: 0;position: absolute;width: 1px;}#sk-container-id-11 div.sk-estimator {font-family: monospace;background-color: #f0f8ff;border: 1px dotted black;border-radius: 0.25em;box-sizing: border-box;margin-bottom: 0.5em;}#sk-container-id-11 div.sk-estimator:hover {background-color: #d4ebff;}#sk-container-id-11 div.sk-parallel-item::after {content: \"\";width: 100%;border-bottom: 1px solid gray;flex-grow: 1;}#sk-container-id-11 div.sk-label:hover label.sk-toggleable__label {background-color: #d4ebff;}#sk-container-id-11 div.sk-serial::before {content: \"\";position: absolute;border-left: 1px solid gray;box-sizing: border-box;top: 0;bottom: 0;left: 50%;z-index: 0;}#sk-container-id-11 div.sk-serial {display: flex;flex-direction: column;align-items: center;background-color: white;padding-right: 0.2em;padding-left: 0.2em;position: relative;}#sk-container-id-11 div.sk-item {position: relative;z-index: 1;}#sk-container-id-11 div.sk-parallel {display: flex;align-items: stretch;justify-content: center;background-color: white;position: relative;}#sk-container-id-11 div.sk-item::before, #sk-container-id-11 div.sk-parallel-item::before {content: \"\";position: absolute;border-left: 1px solid gray;box-sizing: border-box;top: 0;bottom: 0;left: 50%;z-index: -1;}#sk-container-id-11 div.sk-parallel-item {display: flex;flex-direction: column;z-index: 1;position: relative;background-color: white;}#sk-container-id-11 div.sk-parallel-item:first-child::after {align-self: flex-end;width: 50%;}#sk-container-id-11 div.sk-parallel-item:last-child::after {align-self: flex-start;width: 50%;}#sk-container-id-11 div.sk-parallel-item:only-child::after {width: 0;}#sk-container-id-11 div.sk-dashed-wrapped {border: 1px dashed gray;margin: 0 0.4em 0.5em 0.4em;box-sizing: border-box;padding-bottom: 0.4em;background-color: white;}#sk-container-id-11 div.sk-label label {font-family: monospace;font-weight: bold;display: inline-block;line-height: 1.2em;}#sk-container-id-11 div.sk-label-container {text-align: center;}#sk-container-id-11 div.sk-container {/* jupyter's `normalize.less` sets `[hidden] { display: none; }` but bootstrap.min.css set `[hidden] { display: none !important; }` so we also need the `!important` here to be able to override the default hidden behavior on the sphinx rendered scikit-learn.org. See: https://github.com/scikit-learn/scikit-learn/issues/21755 */display: inline-block !important;position: relative;}#sk-container-id-11 div.sk-text-repr-fallback {display: none;}</style><div id=\"sk-container-id-11\" class=\"sk-top-container\"><div class=\"sk-text-repr-fallback\"><pre>RandomForestRegressor(random_state=1)</pre><b>In a Jupyter environment, please rerun this cell to show the HTML representation or trust the notebook. <br />On GitHub, the HTML representation is unable to render, please try loading this page with nbviewer.org.</b></div><div class=\"sk-container\" hidden><div class=\"sk-item\"><div class=\"sk-estimator sk-toggleable\"><input class=\"sk-toggleable__control sk-hidden--visually\" id=\"sk-estimator-id-15\" type=\"checkbox\" checked><label for=\"sk-estimator-id-15\" class=\"sk-toggleable__label sk-toggleable__label-arrow\">RandomForestRegressor</label><div class=\"sk-toggleable__content\"><pre>RandomForestRegressor(random_state=1)</pre></div></div></div></div></div>"
      ],
      "text/plain": [
       "RandomForestRegressor(random_state=1)"
      ]
     },
     "execution_count": 92,
     "metadata": {},
     "output_type": "execute_result"
    }
   ],
   "source": [
    "forest.fit(train_X,train_y)"
   ]
  },
  {
   "cell_type": "code",
   "execution_count": 93,
   "id": "cec861cf",
   "metadata": {},
   "outputs": [],
   "source": [
    "prediction = forest.predict(test_X)"
   ]
  },
  {
   "cell_type": "code",
   "execution_count": 94,
   "id": "41ca1f8a",
   "metadata": {},
   "outputs": [
    {
     "name": "stdout",
     "output_type": "stream",
     "text": [
      "MSE: 3615.944465765765\n",
      "MAE: 51.067117117117114\n"
     ]
    }
   ],
   "source": [
    "from sklearn.metrics import mean_squared_error, mean_absolute_error\n",
    "print(\"MSE:\",mean_squared_error(prediction,test_y))\n",
    "print(\"MAE:\",mean_absolute_error(prediction,test_y))"
   ]
  },
  {
   "cell_type": "markdown",
   "id": "2d4e0a63",
   "metadata": {},
   "source": [
    "#### Improving the model"
   ]
  },
  {
   "cell_type": "markdown",
   "id": "155570d0",
   "metadata": {},
   "source": [
    "Model's performance with default parameter gave us MSE of about 3807 and MAE of about 50, let's tune the hyperparameters and look for improvements"
   ]
  },
  {
   "cell_type": "code",
   "execution_count": 95,
   "id": "01c11985",
   "metadata": {},
   "outputs": [],
   "source": [
    "forest2 = RandomForestRegressor(random_state=1,n_estimators=50)\n",
    "forest3 = RandomForestRegressor(random_state=1,criterion=\"absolute_error\")\n",
    "forest4 = RandomForestRegressor(random_state=1,max_depth=6)"
   ]
  },
  {
   "cell_type": "code",
   "execution_count": 96,
   "id": "fd1d04b5",
   "metadata": {},
   "outputs": [
    {
     "data": {
      "text/html": [
       "<style>#sk-container-id-12 {color: black;background-color: white;}#sk-container-id-12 pre{padding: 0;}#sk-container-id-12 div.sk-toggleable {background-color: white;}#sk-container-id-12 label.sk-toggleable__label {cursor: pointer;display: block;width: 100%;margin-bottom: 0;padding: 0.3em;box-sizing: border-box;text-align: center;}#sk-container-id-12 label.sk-toggleable__label-arrow:before {content: \"▸\";float: left;margin-right: 0.25em;color: #696969;}#sk-container-id-12 label.sk-toggleable__label-arrow:hover:before {color: black;}#sk-container-id-12 div.sk-estimator:hover label.sk-toggleable__label-arrow:before {color: black;}#sk-container-id-12 div.sk-toggleable__content {max-height: 0;max-width: 0;overflow: hidden;text-align: left;background-color: #f0f8ff;}#sk-container-id-12 div.sk-toggleable__content pre {margin: 0.2em;color: black;border-radius: 0.25em;background-color: #f0f8ff;}#sk-container-id-12 input.sk-toggleable__control:checked~div.sk-toggleable__content {max-height: 200px;max-width: 100%;overflow: auto;}#sk-container-id-12 input.sk-toggleable__control:checked~label.sk-toggleable__label-arrow:before {content: \"▾\";}#sk-container-id-12 div.sk-estimator input.sk-toggleable__control:checked~label.sk-toggleable__label {background-color: #d4ebff;}#sk-container-id-12 div.sk-label input.sk-toggleable__control:checked~label.sk-toggleable__label {background-color: #d4ebff;}#sk-container-id-12 input.sk-hidden--visually {border: 0;clip: rect(1px 1px 1px 1px);clip: rect(1px, 1px, 1px, 1px);height: 1px;margin: -1px;overflow: hidden;padding: 0;position: absolute;width: 1px;}#sk-container-id-12 div.sk-estimator {font-family: monospace;background-color: #f0f8ff;border: 1px dotted black;border-radius: 0.25em;box-sizing: border-box;margin-bottom: 0.5em;}#sk-container-id-12 div.sk-estimator:hover {background-color: #d4ebff;}#sk-container-id-12 div.sk-parallel-item::after {content: \"\";width: 100%;border-bottom: 1px solid gray;flex-grow: 1;}#sk-container-id-12 div.sk-label:hover label.sk-toggleable__label {background-color: #d4ebff;}#sk-container-id-12 div.sk-serial::before {content: \"\";position: absolute;border-left: 1px solid gray;box-sizing: border-box;top: 0;bottom: 0;left: 50%;z-index: 0;}#sk-container-id-12 div.sk-serial {display: flex;flex-direction: column;align-items: center;background-color: white;padding-right: 0.2em;padding-left: 0.2em;position: relative;}#sk-container-id-12 div.sk-item {position: relative;z-index: 1;}#sk-container-id-12 div.sk-parallel {display: flex;align-items: stretch;justify-content: center;background-color: white;position: relative;}#sk-container-id-12 div.sk-item::before, #sk-container-id-12 div.sk-parallel-item::before {content: \"\";position: absolute;border-left: 1px solid gray;box-sizing: border-box;top: 0;bottom: 0;left: 50%;z-index: -1;}#sk-container-id-12 div.sk-parallel-item {display: flex;flex-direction: column;z-index: 1;position: relative;background-color: white;}#sk-container-id-12 div.sk-parallel-item:first-child::after {align-self: flex-end;width: 50%;}#sk-container-id-12 div.sk-parallel-item:last-child::after {align-self: flex-start;width: 50%;}#sk-container-id-12 div.sk-parallel-item:only-child::after {width: 0;}#sk-container-id-12 div.sk-dashed-wrapped {border: 1px dashed gray;margin: 0 0.4em 0.5em 0.4em;box-sizing: border-box;padding-bottom: 0.4em;background-color: white;}#sk-container-id-12 div.sk-label label {font-family: monospace;font-weight: bold;display: inline-block;line-height: 1.2em;}#sk-container-id-12 div.sk-label-container {text-align: center;}#sk-container-id-12 div.sk-container {/* jupyter's `normalize.less` sets `[hidden] { display: none; }` but bootstrap.min.css set `[hidden] { display: none !important; }` so we also need the `!important` here to be able to override the default hidden behavior on the sphinx rendered scikit-learn.org. See: https://github.com/scikit-learn/scikit-learn/issues/21755 */display: inline-block !important;position: relative;}#sk-container-id-12 div.sk-text-repr-fallback {display: none;}</style><div id=\"sk-container-id-12\" class=\"sk-top-container\"><div class=\"sk-text-repr-fallback\"><pre>RandomForestRegressor(max_depth=6, random_state=1)</pre><b>In a Jupyter environment, please rerun this cell to show the HTML representation or trust the notebook. <br />On GitHub, the HTML representation is unable to render, please try loading this page with nbviewer.org.</b></div><div class=\"sk-container\" hidden><div class=\"sk-item\"><div class=\"sk-estimator sk-toggleable\"><input class=\"sk-toggleable__control sk-hidden--visually\" id=\"sk-estimator-id-16\" type=\"checkbox\" checked><label for=\"sk-estimator-id-16\" class=\"sk-toggleable__label sk-toggleable__label-arrow\">RandomForestRegressor</label><div class=\"sk-toggleable__content\"><pre>RandomForestRegressor(max_depth=6, random_state=1)</pre></div></div></div></div></div>"
      ],
      "text/plain": [
       "RandomForestRegressor(max_depth=6, random_state=1)"
      ]
     },
     "execution_count": 96,
     "metadata": {},
     "output_type": "execute_result"
    }
   ],
   "source": [
    "forest2.fit(train_X,train_y)\n",
    "forest3.fit(train_X,train_y)\n",
    "forest4.fit(train_X,train_y)"
   ]
  },
  {
   "cell_type": "code",
   "execution_count": 97,
   "id": "1ba88827",
   "metadata": {},
   "outputs": [],
   "source": [
    "prediction2 = forest2.predict(test_X)\n",
    "prediction3 = forest3.predict(test_X)\n",
    "prediction4 = forest4.predict(test_X)"
   ]
  },
  {
   "cell_type": "code",
   "execution_count": 98,
   "id": "7be8f22a",
   "metadata": {},
   "outputs": [
    {
     "name": "stdout",
     "output_type": "stream",
     "text": [
      "prediction 2 MSE: 3512.4492036036036\n",
      "prediction 2 MAE: 50.189189189189186\n"
     ]
    }
   ],
   "source": [
    "print(\"prediction 2 MSE:\",mean_squared_error(prediction2,test_y))\n",
    "print(\"prediction 2 MAE:\",mean_absolute_error(prediction2,test_y))"
   ]
  },
  {
   "cell_type": "code",
   "execution_count": 99,
   "id": "8898352d",
   "metadata": {},
   "outputs": [
    {
     "name": "stdout",
     "output_type": "stream",
     "text": [
      "prediction 3 MSE: 3466.4302470720722\n",
      "prediction 3 MAE: 49.848333333333336\n"
     ]
    }
   ],
   "source": [
    "print(\"prediction 3 MSE:\",mean_squared_error(prediction3,test_y))\n",
    "print(\"prediction 3 MAE:\",mean_absolute_error(prediction3,test_y))"
   ]
  },
  {
   "cell_type": "code",
   "execution_count": 100,
   "id": "e236a17d",
   "metadata": {},
   "outputs": [
    {
     "name": "stdout",
     "output_type": "stream",
     "text": [
      "prediction 4 MSE: 3433.4124009540155\n",
      "prediction 4 MAE: 49.45418760578747\n"
     ]
    }
   ],
   "source": [
    "print(\"prediction 4 MSE:\",mean_squared_error(prediction4,test_y))\n",
    "print(\"prediction 4 MAE:\",mean_absolute_error(prediction4,test_y))"
   ]
  },
  {
   "cell_type": "code",
   "execution_count": 101,
   "id": "2af071f1",
   "metadata": {},
   "outputs": [],
   "source": [
    "best_found = mean_absolute_error(prediction4,test_y)"
   ]
  },
  {
   "cell_type": "markdown",
   "id": "66721712",
   "metadata": {},
   "source": [
    "#### We can't see much improvement"
   ]
  },
  {
   "cell_type": "markdown",
   "id": "9aed0184",
   "metadata": {},
   "source": [
    "Let's speed up tuning hyperparameters process and model validation by using <b> GridSearchCV</b>"
   ]
  },
  {
   "cell_type": "code",
   "execution_count": 102,
   "id": "50130a32",
   "metadata": {},
   "outputs": [],
   "source": [
    "hyperparams = dict(n_estimators=range(1,201,50),criterion=[\"squared_error\",\"absolute_error\"],\n",
    "                  max_depth=range(1,10,2),min_samples_split=range(2,11,4),min_samples_leaf=range(1,11,4),\n",
    "                   max_features=[0.25,0.5,0.75,1.0],random_state=[1],n_jobs=[-1])\n",
    "grid = GridSearchCV(RandomForestRegressor(),param_grid=hyperparams,scoring=[\"neg_mean_squared_error\",\"neg_mean_absolute_error\"],\n",
    "                   n_jobs=-1,refit=\"neg_mean_absolute_error\")"
   ]
  },
  {
   "cell_type": "code",
   "execution_count": 103,
   "id": "4330d6a9",
   "metadata": {},
   "outputs": [
    {
     "data": {
      "text/html": [
       "<style>#sk-container-id-13 {color: black;background-color: white;}#sk-container-id-13 pre{padding: 0;}#sk-container-id-13 div.sk-toggleable {background-color: white;}#sk-container-id-13 label.sk-toggleable__label {cursor: pointer;display: block;width: 100%;margin-bottom: 0;padding: 0.3em;box-sizing: border-box;text-align: center;}#sk-container-id-13 label.sk-toggleable__label-arrow:before {content: \"▸\";float: left;margin-right: 0.25em;color: #696969;}#sk-container-id-13 label.sk-toggleable__label-arrow:hover:before {color: black;}#sk-container-id-13 div.sk-estimator:hover label.sk-toggleable__label-arrow:before {color: black;}#sk-container-id-13 div.sk-toggleable__content {max-height: 0;max-width: 0;overflow: hidden;text-align: left;background-color: #f0f8ff;}#sk-container-id-13 div.sk-toggleable__content pre {margin: 0.2em;color: black;border-radius: 0.25em;background-color: #f0f8ff;}#sk-container-id-13 input.sk-toggleable__control:checked~div.sk-toggleable__content {max-height: 200px;max-width: 100%;overflow: auto;}#sk-container-id-13 input.sk-toggleable__control:checked~label.sk-toggleable__label-arrow:before {content: \"▾\";}#sk-container-id-13 div.sk-estimator input.sk-toggleable__control:checked~label.sk-toggleable__label {background-color: #d4ebff;}#sk-container-id-13 div.sk-label input.sk-toggleable__control:checked~label.sk-toggleable__label {background-color: #d4ebff;}#sk-container-id-13 input.sk-hidden--visually {border: 0;clip: rect(1px 1px 1px 1px);clip: rect(1px, 1px, 1px, 1px);height: 1px;margin: -1px;overflow: hidden;padding: 0;position: absolute;width: 1px;}#sk-container-id-13 div.sk-estimator {font-family: monospace;background-color: #f0f8ff;border: 1px dotted black;border-radius: 0.25em;box-sizing: border-box;margin-bottom: 0.5em;}#sk-container-id-13 div.sk-estimator:hover {background-color: #d4ebff;}#sk-container-id-13 div.sk-parallel-item::after {content: \"\";width: 100%;border-bottom: 1px solid gray;flex-grow: 1;}#sk-container-id-13 div.sk-label:hover label.sk-toggleable__label {background-color: #d4ebff;}#sk-container-id-13 div.sk-serial::before {content: \"\";position: absolute;border-left: 1px solid gray;box-sizing: border-box;top: 0;bottom: 0;left: 50%;z-index: 0;}#sk-container-id-13 div.sk-serial {display: flex;flex-direction: column;align-items: center;background-color: white;padding-right: 0.2em;padding-left: 0.2em;position: relative;}#sk-container-id-13 div.sk-item {position: relative;z-index: 1;}#sk-container-id-13 div.sk-parallel {display: flex;align-items: stretch;justify-content: center;background-color: white;position: relative;}#sk-container-id-13 div.sk-item::before, #sk-container-id-13 div.sk-parallel-item::before {content: \"\";position: absolute;border-left: 1px solid gray;box-sizing: border-box;top: 0;bottom: 0;left: 50%;z-index: -1;}#sk-container-id-13 div.sk-parallel-item {display: flex;flex-direction: column;z-index: 1;position: relative;background-color: white;}#sk-container-id-13 div.sk-parallel-item:first-child::after {align-self: flex-end;width: 50%;}#sk-container-id-13 div.sk-parallel-item:last-child::after {align-self: flex-start;width: 50%;}#sk-container-id-13 div.sk-parallel-item:only-child::after {width: 0;}#sk-container-id-13 div.sk-dashed-wrapped {border: 1px dashed gray;margin: 0 0.4em 0.5em 0.4em;box-sizing: border-box;padding-bottom: 0.4em;background-color: white;}#sk-container-id-13 div.sk-label label {font-family: monospace;font-weight: bold;display: inline-block;line-height: 1.2em;}#sk-container-id-13 div.sk-label-container {text-align: center;}#sk-container-id-13 div.sk-container {/* jupyter's `normalize.less` sets `[hidden] { display: none; }` but bootstrap.min.css set `[hidden] { display: none !important; }` so we also need the `!important` here to be able to override the default hidden behavior on the sphinx rendered scikit-learn.org. See: https://github.com/scikit-learn/scikit-learn/issues/21755 */display: inline-block !important;position: relative;}#sk-container-id-13 div.sk-text-repr-fallback {display: none;}</style><div id=\"sk-container-id-13\" class=\"sk-top-container\"><div class=\"sk-text-repr-fallback\"><pre>GridSearchCV(estimator=RandomForestRegressor(), n_jobs=-1,\n",
       "             param_grid={&#x27;criterion&#x27;: [&#x27;squared_error&#x27;, &#x27;absolute_error&#x27;],\n",
       "                         &#x27;max_depth&#x27;: range(1, 10, 2),\n",
       "                         &#x27;max_features&#x27;: [0.25, 0.5, 0.75, 1.0],\n",
       "                         &#x27;min_samples_leaf&#x27;: range(1, 11, 4),\n",
       "                         &#x27;min_samples_split&#x27;: range(2, 11, 4),\n",
       "                         &#x27;n_estimators&#x27;: range(1, 201, 50), &#x27;n_jobs&#x27;: [-1],\n",
       "                         &#x27;random_state&#x27;: [1]},\n",
       "             refit=&#x27;neg_mean_absolute_error&#x27;,\n",
       "             scoring=[&#x27;neg_mean_squared_error&#x27;, &#x27;neg_mean_absolute_error&#x27;])</pre><b>In a Jupyter environment, please rerun this cell to show the HTML representation or trust the notebook. <br />On GitHub, the HTML representation is unable to render, please try loading this page with nbviewer.org.</b></div><div class=\"sk-container\" hidden><div class=\"sk-item sk-dashed-wrapped\"><div class=\"sk-label-container\"><div class=\"sk-label sk-toggleable\"><input class=\"sk-toggleable__control sk-hidden--visually\" id=\"sk-estimator-id-17\" type=\"checkbox\" ><label for=\"sk-estimator-id-17\" class=\"sk-toggleable__label sk-toggleable__label-arrow\">GridSearchCV</label><div class=\"sk-toggleable__content\"><pre>GridSearchCV(estimator=RandomForestRegressor(), n_jobs=-1,\n",
       "             param_grid={&#x27;criterion&#x27;: [&#x27;squared_error&#x27;, &#x27;absolute_error&#x27;],\n",
       "                         &#x27;max_depth&#x27;: range(1, 10, 2),\n",
       "                         &#x27;max_features&#x27;: [0.25, 0.5, 0.75, 1.0],\n",
       "                         &#x27;min_samples_leaf&#x27;: range(1, 11, 4),\n",
       "                         &#x27;min_samples_split&#x27;: range(2, 11, 4),\n",
       "                         &#x27;n_estimators&#x27;: range(1, 201, 50), &#x27;n_jobs&#x27;: [-1],\n",
       "                         &#x27;random_state&#x27;: [1]},\n",
       "             refit=&#x27;neg_mean_absolute_error&#x27;,\n",
       "             scoring=[&#x27;neg_mean_squared_error&#x27;, &#x27;neg_mean_absolute_error&#x27;])</pre></div></div></div><div class=\"sk-parallel\"><div class=\"sk-parallel-item\"><div class=\"sk-item\"><div class=\"sk-label-container\"><div class=\"sk-label sk-toggleable\"><input class=\"sk-toggleable__control sk-hidden--visually\" id=\"sk-estimator-id-18\" type=\"checkbox\" ><label for=\"sk-estimator-id-18\" class=\"sk-toggleable__label sk-toggleable__label-arrow\">estimator: RandomForestRegressor</label><div class=\"sk-toggleable__content\"><pre>RandomForestRegressor()</pre></div></div></div><div class=\"sk-serial\"><div class=\"sk-item\"><div class=\"sk-estimator sk-toggleable\"><input class=\"sk-toggleable__control sk-hidden--visually\" id=\"sk-estimator-id-19\" type=\"checkbox\" ><label for=\"sk-estimator-id-19\" class=\"sk-toggleable__label sk-toggleable__label-arrow\">RandomForestRegressor</label><div class=\"sk-toggleable__content\"><pre>RandomForestRegressor()</pre></div></div></div></div></div></div></div></div></div></div>"
      ],
      "text/plain": [
       "GridSearchCV(estimator=RandomForestRegressor(), n_jobs=-1,\n",
       "             param_grid={'criterion': ['squared_error', 'absolute_error'],\n",
       "                         'max_depth': range(1, 10, 2),\n",
       "                         'max_features': [0.25, 0.5, 0.75, 1.0],\n",
       "                         'min_samples_leaf': range(1, 11, 4),\n",
       "                         'min_samples_split': range(2, 11, 4),\n",
       "                         'n_estimators': range(1, 201, 50), 'n_jobs': [-1],\n",
       "                         'random_state': [1]},\n",
       "             refit='neg_mean_absolute_error',\n",
       "             scoring=['neg_mean_squared_error', 'neg_mean_absolute_error'])"
      ]
     },
     "execution_count": 103,
     "metadata": {},
     "output_type": "execute_result"
    }
   ],
   "source": [
    "grid.fit(X,y)"
   ]
  },
  {
   "cell_type": "markdown",
   "id": "fa103b94",
   "metadata": {},
   "source": [
    "<b>After running GridSearchCV on a random forest model with a large number of hyperparameters to test, I realized that it was extremely computationally demanding and time-consuming. This is because random forest models are inherently more complex than standard decision trees. Even if I had only used 5 folds for cross validation,the entire process remained highly demanding. As a solution, I decided to use random search later to explore if I could find a set of hyperparameters that yielded comparable results to those obtained from the grid search. Overall, using grid search for random forest models may to demanding</b>"
   ]
  },
  {
   "cell_type": "markdown",
   "id": "3bdf7f4e",
   "metadata": {},
   "source": [
    "But first let's check what grid search found"
   ]
  },
  {
   "cell_type": "code",
   "execution_count": 104,
   "id": "ae4602dd",
   "metadata": {},
   "outputs": [
    {
     "data": {
      "text/html": [
       "<style>#sk-container-id-14 {color: black;background-color: white;}#sk-container-id-14 pre{padding: 0;}#sk-container-id-14 div.sk-toggleable {background-color: white;}#sk-container-id-14 label.sk-toggleable__label {cursor: pointer;display: block;width: 100%;margin-bottom: 0;padding: 0.3em;box-sizing: border-box;text-align: center;}#sk-container-id-14 label.sk-toggleable__label-arrow:before {content: \"▸\";float: left;margin-right: 0.25em;color: #696969;}#sk-container-id-14 label.sk-toggleable__label-arrow:hover:before {color: black;}#sk-container-id-14 div.sk-estimator:hover label.sk-toggleable__label-arrow:before {color: black;}#sk-container-id-14 div.sk-toggleable__content {max-height: 0;max-width: 0;overflow: hidden;text-align: left;background-color: #f0f8ff;}#sk-container-id-14 div.sk-toggleable__content pre {margin: 0.2em;color: black;border-radius: 0.25em;background-color: #f0f8ff;}#sk-container-id-14 input.sk-toggleable__control:checked~div.sk-toggleable__content {max-height: 200px;max-width: 100%;overflow: auto;}#sk-container-id-14 input.sk-toggleable__control:checked~label.sk-toggleable__label-arrow:before {content: \"▾\";}#sk-container-id-14 div.sk-estimator input.sk-toggleable__control:checked~label.sk-toggleable__label {background-color: #d4ebff;}#sk-container-id-14 div.sk-label input.sk-toggleable__control:checked~label.sk-toggleable__label {background-color: #d4ebff;}#sk-container-id-14 input.sk-hidden--visually {border: 0;clip: rect(1px 1px 1px 1px);clip: rect(1px, 1px, 1px, 1px);height: 1px;margin: -1px;overflow: hidden;padding: 0;position: absolute;width: 1px;}#sk-container-id-14 div.sk-estimator {font-family: monospace;background-color: #f0f8ff;border: 1px dotted black;border-radius: 0.25em;box-sizing: border-box;margin-bottom: 0.5em;}#sk-container-id-14 div.sk-estimator:hover {background-color: #d4ebff;}#sk-container-id-14 div.sk-parallel-item::after {content: \"\";width: 100%;border-bottom: 1px solid gray;flex-grow: 1;}#sk-container-id-14 div.sk-label:hover label.sk-toggleable__label {background-color: #d4ebff;}#sk-container-id-14 div.sk-serial::before {content: \"\";position: absolute;border-left: 1px solid gray;box-sizing: border-box;top: 0;bottom: 0;left: 50%;z-index: 0;}#sk-container-id-14 div.sk-serial {display: flex;flex-direction: column;align-items: center;background-color: white;padding-right: 0.2em;padding-left: 0.2em;position: relative;}#sk-container-id-14 div.sk-item {position: relative;z-index: 1;}#sk-container-id-14 div.sk-parallel {display: flex;align-items: stretch;justify-content: center;background-color: white;position: relative;}#sk-container-id-14 div.sk-item::before, #sk-container-id-14 div.sk-parallel-item::before {content: \"\";position: absolute;border-left: 1px solid gray;box-sizing: border-box;top: 0;bottom: 0;left: 50%;z-index: -1;}#sk-container-id-14 div.sk-parallel-item {display: flex;flex-direction: column;z-index: 1;position: relative;background-color: white;}#sk-container-id-14 div.sk-parallel-item:first-child::after {align-self: flex-end;width: 50%;}#sk-container-id-14 div.sk-parallel-item:last-child::after {align-self: flex-start;width: 50%;}#sk-container-id-14 div.sk-parallel-item:only-child::after {width: 0;}#sk-container-id-14 div.sk-dashed-wrapped {border: 1px dashed gray;margin: 0 0.4em 0.5em 0.4em;box-sizing: border-box;padding-bottom: 0.4em;background-color: white;}#sk-container-id-14 div.sk-label label {font-family: monospace;font-weight: bold;display: inline-block;line-height: 1.2em;}#sk-container-id-14 div.sk-label-container {text-align: center;}#sk-container-id-14 div.sk-container {/* jupyter's `normalize.less` sets `[hidden] { display: none; }` but bootstrap.min.css set `[hidden] { display: none !important; }` so we also need the `!important` here to be able to override the default hidden behavior on the sphinx rendered scikit-learn.org. See: https://github.com/scikit-learn/scikit-learn/issues/21755 */display: inline-block !important;position: relative;}#sk-container-id-14 div.sk-text-repr-fallback {display: none;}</style><div id=\"sk-container-id-14\" class=\"sk-top-container\"><div class=\"sk-text-repr-fallback\"><pre>RandomForestRegressor(criterion=&#x27;absolute_error&#x27;, max_depth=9,\n",
       "                      min_samples_leaf=9, n_estimators=151, n_jobs=-1,\n",
       "                      random_state=1)</pre><b>In a Jupyter environment, please rerun this cell to show the HTML representation or trust the notebook. <br />On GitHub, the HTML representation is unable to render, please try loading this page with nbviewer.org.</b></div><div class=\"sk-container\" hidden><div class=\"sk-item\"><div class=\"sk-estimator sk-toggleable\"><input class=\"sk-toggleable__control sk-hidden--visually\" id=\"sk-estimator-id-20\" type=\"checkbox\" checked><label for=\"sk-estimator-id-20\" class=\"sk-toggleable__label sk-toggleable__label-arrow\">RandomForestRegressor</label><div class=\"sk-toggleable__content\"><pre>RandomForestRegressor(criterion=&#x27;absolute_error&#x27;, max_depth=9,\n",
       "                      min_samples_leaf=9, n_estimators=151, n_jobs=-1,\n",
       "                      random_state=1)</pre></div></div></div></div></div>"
      ],
      "text/plain": [
       "RandomForestRegressor(criterion='absolute_error', max_depth=9,\n",
       "                      min_samples_leaf=9, n_estimators=151, n_jobs=-1,\n",
       "                      random_state=1)"
      ]
     },
     "execution_count": 104,
     "metadata": {},
     "output_type": "execute_result"
    }
   ],
   "source": [
    "grid.best_estimator_"
   ]
  },
  {
   "cell_type": "code",
   "execution_count": 105,
   "id": "905ba8ce",
   "metadata": {},
   "outputs": [
    {
     "data": {
      "text/plain": [
       "45.147646266970625"
      ]
     },
     "execution_count": 105,
     "metadata": {},
     "output_type": "execute_result"
    }
   ],
   "source": [
    "best_grid_found = -grid.best_score_\n",
    "best_grid_found"
   ]
  },
  {
   "cell_type": "code",
   "execution_count": 133,
   "id": "cddb87c2",
   "metadata": {},
   "outputs": [
    {
     "name": "stdout",
     "output_type": "stream",
     "text": [
      "MAE score was improved by 8.708142924408007%\n"
     ]
    }
   ],
   "source": [
    "print(f\"MAE score was improved by {((best_found-best_grid_found)/best_found)*100}%\")"
   ]
  },
  {
   "cell_type": "code",
   "execution_count": 107,
   "id": "f1ce5e75",
   "metadata": {
    "scrolled": false
   },
   "outputs": [
    {
     "data": {
      "text/html": [
       "<div>\n",
       "<style scoped>\n",
       "    .dataframe tbody tr th:only-of-type {\n",
       "        vertical-align: middle;\n",
       "    }\n",
       "\n",
       "    .dataframe tbody tr th {\n",
       "        vertical-align: top;\n",
       "    }\n",
       "\n",
       "    .dataframe thead th {\n",
       "        text-align: right;\n",
       "    }\n",
       "</style>\n",
       "<table border=\"1\" class=\"dataframe\">\n",
       "  <thead>\n",
       "    <tr style=\"text-align: right;\">\n",
       "      <th></th>\n",
       "      <th>mean_fit_time</th>\n",
       "      <th>std_fit_time</th>\n",
       "      <th>mean_score_time</th>\n",
       "      <th>std_score_time</th>\n",
       "      <th>param_criterion</th>\n",
       "      <th>param_max_depth</th>\n",
       "      <th>param_max_features</th>\n",
       "      <th>param_min_samples_leaf</th>\n",
       "      <th>param_min_samples_split</th>\n",
       "      <th>param_n_estimators</th>\n",
       "      <th>...</th>\n",
       "      <th>std_test_neg_mean_squared_error</th>\n",
       "      <th>rank_test_neg_mean_squared_error</th>\n",
       "      <th>split0_test_neg_mean_absolute_error</th>\n",
       "      <th>split1_test_neg_mean_absolute_error</th>\n",
       "      <th>split2_test_neg_mean_absolute_error</th>\n",
       "      <th>split3_test_neg_mean_absolute_error</th>\n",
       "      <th>split4_test_neg_mean_absolute_error</th>\n",
       "      <th>mean_test_neg_mean_absolute_error</th>\n",
       "      <th>std_test_neg_mean_absolute_error</th>\n",
       "      <th>rank_test_neg_mean_absolute_error</th>\n",
       "    </tr>\n",
       "  </thead>\n",
       "  <tbody>\n",
       "    <tr>\n",
       "      <th>0</th>\n",
       "      <td>0.036702</td>\n",
       "      <td>0.017463</td>\n",
       "      <td>0.002993</td>\n",
       "      <td>0.000630</td>\n",
       "      <td>squared_error</td>\n",
       "      <td>1</td>\n",
       "      <td>0.25</td>\n",
       "      <td>1</td>\n",
       "      <td>2</td>\n",
       "      <td>1</td>\n",
       "      <td>...</td>\n",
       "      <td>535.419855</td>\n",
       "      <td>1296</td>\n",
       "      <td>-57.005540</td>\n",
       "      <td>-60.072773</td>\n",
       "      <td>-65.752742</td>\n",
       "      <td>-55.866331</td>\n",
       "      <td>-61.848035</td>\n",
       "      <td>-60.109084</td>\n",
       "      <td>3.535791</td>\n",
       "      <td>1361</td>\n",
       "    </tr>\n",
       "    <tr>\n",
       "      <th>1</th>\n",
       "      <td>0.074799</td>\n",
       "      <td>0.004370</td>\n",
       "      <td>0.014760</td>\n",
       "      <td>0.002394</td>\n",
       "      <td>squared_error</td>\n",
       "      <td>1</td>\n",
       "      <td>0.25</td>\n",
       "      <td>1</td>\n",
       "      <td>2</td>\n",
       "      <td>51</td>\n",
       "      <td>...</td>\n",
       "      <td>311.932171</td>\n",
       "      <td>1117</td>\n",
       "      <td>-53.096020</td>\n",
       "      <td>-55.130723</td>\n",
       "      <td>-58.649239</td>\n",
       "      <td>-53.793342</td>\n",
       "      <td>-59.769734</td>\n",
       "      <td>-56.087812</td>\n",
       "      <td>2.655142</td>\n",
       "      <td>1258</td>\n",
       "    </tr>\n",
       "    <tr>\n",
       "      <th>2</th>\n",
       "      <td>0.138031</td>\n",
       "      <td>0.011978</td>\n",
       "      <td>0.019149</td>\n",
       "      <td>0.002705</td>\n",
       "      <td>squared_error</td>\n",
       "      <td>1</td>\n",
       "      <td>0.25</td>\n",
       "      <td>1</td>\n",
       "      <td>2</td>\n",
       "      <td>101</td>\n",
       "      <td>...</td>\n",
       "      <td>305.660970</td>\n",
       "      <td>1087</td>\n",
       "      <td>-52.557985</td>\n",
       "      <td>-54.265850</td>\n",
       "      <td>-57.991322</td>\n",
       "      <td>-53.522407</td>\n",
       "      <td>-59.262727</td>\n",
       "      <td>-55.520058</td>\n",
       "      <td>2.624966</td>\n",
       "      <td>1231</td>\n",
       "    </tr>\n",
       "    <tr>\n",
       "      <th>3</th>\n",
       "      <td>0.247538</td>\n",
       "      <td>0.073037</td>\n",
       "      <td>0.032912</td>\n",
       "      <td>0.009792</td>\n",
       "      <td>squared_error</td>\n",
       "      <td>1</td>\n",
       "      <td>0.25</td>\n",
       "      <td>1</td>\n",
       "      <td>2</td>\n",
       "      <td>151</td>\n",
       "      <td>...</td>\n",
       "      <td>308.853190</td>\n",
       "      <td>1102</td>\n",
       "      <td>-52.693902</td>\n",
       "      <td>-54.520943</td>\n",
       "      <td>-57.977529</td>\n",
       "      <td>-53.719306</td>\n",
       "      <td>-59.292336</td>\n",
       "      <td>-55.640803</td>\n",
       "      <td>2.546545</td>\n",
       "      <td>1241</td>\n",
       "    </tr>\n",
       "    <tr>\n",
       "      <th>4</th>\n",
       "      <td>0.007779</td>\n",
       "      <td>0.001163</td>\n",
       "      <td>0.002394</td>\n",
       "      <td>0.000489</td>\n",
       "      <td>squared_error</td>\n",
       "      <td>1</td>\n",
       "      <td>0.25</td>\n",
       "      <td>1</td>\n",
       "      <td>6</td>\n",
       "      <td>1</td>\n",
       "      <td>...</td>\n",
       "      <td>535.419855</td>\n",
       "      <td>1296</td>\n",
       "      <td>-57.005540</td>\n",
       "      <td>-60.072773</td>\n",
       "      <td>-65.752742</td>\n",
       "      <td>-55.866331</td>\n",
       "      <td>-61.848035</td>\n",
       "      <td>-60.109084</td>\n",
       "      <td>3.535791</td>\n",
       "      <td>1361</td>\n",
       "    </tr>\n",
       "    <tr>\n",
       "      <th>...</th>\n",
       "      <td>...</td>\n",
       "      <td>...</td>\n",
       "      <td>...</td>\n",
       "      <td>...</td>\n",
       "      <td>...</td>\n",
       "      <td>...</td>\n",
       "      <td>...</td>\n",
       "      <td>...</td>\n",
       "      <td>...</td>\n",
       "      <td>...</td>\n",
       "      <td>...</td>\n",
       "      <td>...</td>\n",
       "      <td>...</td>\n",
       "      <td>...</td>\n",
       "      <td>...</td>\n",
       "      <td>...</td>\n",
       "      <td>...</td>\n",
       "      <td>...</td>\n",
       "      <td>...</td>\n",
       "      <td>...</td>\n",
       "      <td>...</td>\n",
       "    </tr>\n",
       "    <tr>\n",
       "      <th>1435</th>\n",
       "      <td>0.894052</td>\n",
       "      <td>0.152966</td>\n",
       "      <td>0.093057</td>\n",
       "      <td>0.020777</td>\n",
       "      <td>absolute_error</td>\n",
       "      <td>9</td>\n",
       "      <td>1.0</td>\n",
       "      <td>9</td>\n",
       "      <td>6</td>\n",
       "      <td>151</td>\n",
       "      <td>...</td>\n",
       "      <td>204.600922</td>\n",
       "      <td>91</td>\n",
       "      <td>-43.561984</td>\n",
       "      <td>-43.947169</td>\n",
       "      <td>-46.187651</td>\n",
       "      <td>-46.255908</td>\n",
       "      <td>-45.785521</td>\n",
       "      <td>-45.147646</td>\n",
       "      <td>1.155180</td>\n",
       "      <td>1</td>\n",
       "    </tr>\n",
       "    <tr>\n",
       "      <th>1436</th>\n",
       "      <td>0.035309</td>\n",
       "      <td>0.004984</td>\n",
       "      <td>0.002194</td>\n",
       "      <td>0.000399</td>\n",
       "      <td>absolute_error</td>\n",
       "      <td>9</td>\n",
       "      <td>1.0</td>\n",
       "      <td>9</td>\n",
       "      <td>10</td>\n",
       "      <td>1</td>\n",
       "      <td>...</td>\n",
       "      <td>501.935453</td>\n",
       "      <td>1150</td>\n",
       "      <td>-56.904494</td>\n",
       "      <td>-53.393258</td>\n",
       "      <td>-49.607955</td>\n",
       "      <td>-53.613636</td>\n",
       "      <td>-47.380682</td>\n",
       "      <td>-52.180005</td>\n",
       "      <td>3.331577</td>\n",
       "      <td>1042</td>\n",
       "    </tr>\n",
       "    <tr>\n",
       "      <th>1437</th>\n",
       "      <td>0.296119</td>\n",
       "      <td>0.057770</td>\n",
       "      <td>0.181224</td>\n",
       "      <td>0.087669</td>\n",
       "      <td>absolute_error</td>\n",
       "      <td>9</td>\n",
       "      <td>1.0</td>\n",
       "      <td>9</td>\n",
       "      <td>10</td>\n",
       "      <td>51</td>\n",
       "      <td>...</td>\n",
       "      <td>221.252106</td>\n",
       "      <td>120</td>\n",
       "      <td>-43.801278</td>\n",
       "      <td>-43.821436</td>\n",
       "      <td>-46.704880</td>\n",
       "      <td>-46.762701</td>\n",
       "      <td>-45.077429</td>\n",
       "      <td>-45.233545</td>\n",
       "      <td>1.309424</td>\n",
       "      <td>10</td>\n",
       "    </tr>\n",
       "    <tr>\n",
       "      <th>1438</th>\n",
       "      <td>0.647381</td>\n",
       "      <td>0.131548</td>\n",
       "      <td>0.222011</td>\n",
       "      <td>0.122689</td>\n",
       "      <td>absolute_error</td>\n",
       "      <td>9</td>\n",
       "      <td>1.0</td>\n",
       "      <td>9</td>\n",
       "      <td>10</td>\n",
       "      <td>101</td>\n",
       "      <td>...</td>\n",
       "      <td>194.265352</td>\n",
       "      <td>220</td>\n",
       "      <td>-43.852375</td>\n",
       "      <td>-44.094115</td>\n",
       "      <td>-46.402228</td>\n",
       "      <td>-46.229017</td>\n",
       "      <td>-45.645477</td>\n",
       "      <td>-45.244642</td>\n",
       "      <td>1.070681</td>\n",
       "      <td>16</td>\n",
       "    </tr>\n",
       "    <tr>\n",
       "      <th>1439</th>\n",
       "      <td>0.961141</td>\n",
       "      <td>0.070005</td>\n",
       "      <td>0.203896</td>\n",
       "      <td>0.176557</td>\n",
       "      <td>absolute_error</td>\n",
       "      <td>9</td>\n",
       "      <td>1.0</td>\n",
       "      <td>9</td>\n",
       "      <td>10</td>\n",
       "      <td>151</td>\n",
       "      <td>...</td>\n",
       "      <td>204.600922</td>\n",
       "      <td>91</td>\n",
       "      <td>-43.561984</td>\n",
       "      <td>-43.947169</td>\n",
       "      <td>-46.187651</td>\n",
       "      <td>-46.255908</td>\n",
       "      <td>-45.785521</td>\n",
       "      <td>-45.147646</td>\n",
       "      <td>1.155180</td>\n",
       "      <td>1</td>\n",
       "    </tr>\n",
       "  </tbody>\n",
       "</table>\n",
       "<p>1440 rows × 29 columns</p>\n",
       "</div>"
      ],
      "text/plain": [
       "      mean_fit_time  std_fit_time  mean_score_time  std_score_time  \\\n",
       "0          0.036702      0.017463         0.002993        0.000630   \n",
       "1          0.074799      0.004370         0.014760        0.002394   \n",
       "2          0.138031      0.011978         0.019149        0.002705   \n",
       "3          0.247538      0.073037         0.032912        0.009792   \n",
       "4          0.007779      0.001163         0.002394        0.000489   \n",
       "...             ...           ...              ...             ...   \n",
       "1435       0.894052      0.152966         0.093057        0.020777   \n",
       "1436       0.035309      0.004984         0.002194        0.000399   \n",
       "1437       0.296119      0.057770         0.181224        0.087669   \n",
       "1438       0.647381      0.131548         0.222011        0.122689   \n",
       "1439       0.961141      0.070005         0.203896        0.176557   \n",
       "\n",
       "     param_criterion param_max_depth param_max_features  \\\n",
       "0      squared_error               1               0.25   \n",
       "1      squared_error               1               0.25   \n",
       "2      squared_error               1               0.25   \n",
       "3      squared_error               1               0.25   \n",
       "4      squared_error               1               0.25   \n",
       "...              ...             ...                ...   \n",
       "1435  absolute_error               9                1.0   \n",
       "1436  absolute_error               9                1.0   \n",
       "1437  absolute_error               9                1.0   \n",
       "1438  absolute_error               9                1.0   \n",
       "1439  absolute_error               9                1.0   \n",
       "\n",
       "     param_min_samples_leaf param_min_samples_split param_n_estimators  ...  \\\n",
       "0                         1                       2                  1  ...   \n",
       "1                         1                       2                 51  ...   \n",
       "2                         1                       2                101  ...   \n",
       "3                         1                       2                151  ...   \n",
       "4                         1                       6                  1  ...   \n",
       "...                     ...                     ...                ...  ...   \n",
       "1435                      9                       6                151  ...   \n",
       "1436                      9                      10                  1  ...   \n",
       "1437                      9                      10                 51  ...   \n",
       "1438                      9                      10                101  ...   \n",
       "1439                      9                      10                151  ...   \n",
       "\n",
       "     std_test_neg_mean_squared_error rank_test_neg_mean_squared_error  \\\n",
       "0                         535.419855                             1296   \n",
       "1                         311.932171                             1117   \n",
       "2                         305.660970                             1087   \n",
       "3                         308.853190                             1102   \n",
       "4                         535.419855                             1296   \n",
       "...                              ...                              ...   \n",
       "1435                      204.600922                               91   \n",
       "1436                      501.935453                             1150   \n",
       "1437                      221.252106                              120   \n",
       "1438                      194.265352                              220   \n",
       "1439                      204.600922                               91   \n",
       "\n",
       "     split0_test_neg_mean_absolute_error  split1_test_neg_mean_absolute_error  \\\n",
       "0                             -57.005540                           -60.072773   \n",
       "1                             -53.096020                           -55.130723   \n",
       "2                             -52.557985                           -54.265850   \n",
       "3                             -52.693902                           -54.520943   \n",
       "4                             -57.005540                           -60.072773   \n",
       "...                                  ...                                  ...   \n",
       "1435                          -43.561984                           -43.947169   \n",
       "1436                          -56.904494                           -53.393258   \n",
       "1437                          -43.801278                           -43.821436   \n",
       "1438                          -43.852375                           -44.094115   \n",
       "1439                          -43.561984                           -43.947169   \n",
       "\n",
       "      split2_test_neg_mean_absolute_error  \\\n",
       "0                              -65.752742   \n",
       "1                              -58.649239   \n",
       "2                              -57.991322   \n",
       "3                              -57.977529   \n",
       "4                              -65.752742   \n",
       "...                                   ...   \n",
       "1435                           -46.187651   \n",
       "1436                           -49.607955   \n",
       "1437                           -46.704880   \n",
       "1438                           -46.402228   \n",
       "1439                           -46.187651   \n",
       "\n",
       "      split3_test_neg_mean_absolute_error  \\\n",
       "0                              -55.866331   \n",
       "1                              -53.793342   \n",
       "2                              -53.522407   \n",
       "3                              -53.719306   \n",
       "4                              -55.866331   \n",
       "...                                   ...   \n",
       "1435                           -46.255908   \n",
       "1436                           -53.613636   \n",
       "1437                           -46.762701   \n",
       "1438                           -46.229017   \n",
       "1439                           -46.255908   \n",
       "\n",
       "      split4_test_neg_mean_absolute_error  mean_test_neg_mean_absolute_error  \\\n",
       "0                              -61.848035                         -60.109084   \n",
       "1                              -59.769734                         -56.087812   \n",
       "2                              -59.262727                         -55.520058   \n",
       "3                              -59.292336                         -55.640803   \n",
       "4                              -61.848035                         -60.109084   \n",
       "...                                   ...                                ...   \n",
       "1435                           -45.785521                         -45.147646   \n",
       "1436                           -47.380682                         -52.180005   \n",
       "1437                           -45.077429                         -45.233545   \n",
       "1438                           -45.645477                         -45.244642   \n",
       "1439                           -45.785521                         -45.147646   \n",
       "\n",
       "      std_test_neg_mean_absolute_error  rank_test_neg_mean_absolute_error  \n",
       "0                             3.535791                               1361  \n",
       "1                             2.655142                               1258  \n",
       "2                             2.624966                               1231  \n",
       "3                             2.546545                               1241  \n",
       "4                             3.535791                               1361  \n",
       "...                                ...                                ...  \n",
       "1435                          1.155180                                  1  \n",
       "1436                          3.331577                               1042  \n",
       "1437                          1.309424                                 10  \n",
       "1438                          1.070681                                 16  \n",
       "1439                          1.155180                                  1  \n",
       "\n",
       "[1440 rows x 29 columns]"
      ]
     },
     "execution_count": 107,
     "metadata": {},
     "output_type": "execute_result"
    }
   ],
   "source": [
    "param_data = pd.DataFrame(grid.cv_results_)\n",
    "param_data"
   ]
  },
  {
   "cell_type": "markdown",
   "id": "f816c79d",
   "metadata": {},
   "source": [
    "#### Let's analyse influance of some features on mean absolute error"
   ]
  },
  {
   "cell_type": "code",
   "execution_count": 108,
   "id": "7a35c75f",
   "metadata": {},
   "outputs": [],
   "source": [
    "mae_max_depth = -param_data.groupby(\"param_max_depth\")[\"mean_test_neg_mean_absolute_error\"].mean()\n",
    "mae_trees_in_forest = -param_data.groupby(\"param_n_estimators\")[\"mean_test_neg_mean_absolute_error\"].mean()\n",
    "mae_max_features = param_data.groupby(\"param_max_features\")[\"mean_test_neg_mean_absolute_error\"].groups"
   ]
  },
  {
   "cell_type": "code",
   "execution_count": 124,
   "id": "d97556fb",
   "metadata": {
    "scrolled": false
   },
   "outputs": [
    {
     "data": {
      "image/png": "[encoded data removed]",
      "text/plain": [
       "<Figure size 1200x1100 with 4 Axes>"
      ]
     },
     "metadata": {},
     "output_type": "display_data"
    }
   ],
   "source": [
    "fig, ax = plt.subplots(2,2,figsize=(12,11))\n",
    "\n",
    "sns.lineplot(mae_max_depth,ax=ax[0,0],linewidth=3,color=\"b\")\n",
    "ax[0,0].set_xlabel(\"Max tree depth of random forest\")\n",
    "ax[0,0].set_ylabel(\"mean MSE score\")\n",
    "ax[0,0].title.set_text(\"Mean MSE scores of models with different max depths\")\n",
    "\n",
    "sns.lineplot(mae_trees_in_forest,ax=ax[0,1],linewidth=3,color=\"g\")\n",
    "ax[0,1].set_xlabel(\"Amount of decision trees in random forest\")\n",
    "ax[0,1].set_ylabel(\"mean MSE score\")\n",
    "ax[0,1].title.set_text(\"Mean MSE scores of models with different amount of trees\")\n",
    "\n",
    "sns.boxplot(data=param_data,y=\"mean_test_neg_mean_absolute_error\",x=\"param_max_features\",ax=ax[1,0])\n",
    "ax[1,0].set_xlabel(\"% of features avaible to use\")\n",
    "ax[1,0].set_ylabel(\"mean MSE score\")\n",
    "ax[1,0].title.set_text(\"MSE scores of models with different amount of features to use\")\n",
    "\n",
    "\n",
    "param_data[\"no_split\"] = \"\"\n",
    "sns.violinplot(data=param_data,y=\"mean_test_neg_mean_absolute_error\",x=\"no_split\",hue=\"param_criterion\",ax=ax[1,1],split=True)\n",
    "ax[1,1].set_ylabel(\"mean MSE score\")\n",
    "ax[1,1].set_xlabel(\"\")\n",
    "ax[1,1].title.set_text(\"MSE scores of models with differen criterion used\")\n",
    "\n",
    "\n",
    "plt.tight_layout()\n",
    "plt.show()"
   ]
  },
  {
   "cell_type": "markdown",
   "id": "33dfd84a",
   "metadata": {},
   "source": [
    "#### Using RandomizedSearchCV"
   ]
  },
  {
   "cell_type": "markdown",
   "id": "a4a9863a",
   "metadata": {},
   "source": [
    "Using randomized search allows us to save computational cost, but lack of best optimization might be trade off"
   ]
  },
  {
   "cell_type": "code",
   "execution_count": 135,
   "id": "936222cc",
   "metadata": {},
   "outputs": [],
   "source": [
    "random = RandomizedSearchCV(RandomForestRegressor(),param_distributions=hyperparams,n_iter=30,scoring=[\"neg_mean_squared_error\",\"neg_mean_absolute_error\"],\n",
    "                   n_jobs=-1,refit=\"neg_mean_absolute_error\",random_state=1)"
   ]
  },
  {
   "cell_type": "code",
   "execution_count": 136,
   "id": "00a30d02",
   "metadata": {},
   "outputs": [
    {
     "data": {
      "text/html": [
       "<style>#sk-container-id-15 {color: black;background-color: white;}#sk-container-id-15 pre{padding: 0;}#sk-container-id-15 div.sk-toggleable {background-color: white;}#sk-container-id-15 label.sk-toggleable__label {cursor: pointer;display: block;width: 100%;margin-bottom: 0;padding: 0.3em;box-sizing: border-box;text-align: center;}#sk-container-id-15 label.sk-toggleable__label-arrow:before {content: \"▸\";float: left;margin-right: 0.25em;color: #696969;}#sk-container-id-15 label.sk-toggleable__label-arrow:hover:before {color: black;}#sk-container-id-15 div.sk-estimator:hover label.sk-toggleable__label-arrow:before {color: black;}#sk-container-id-15 div.sk-toggleable__content {max-height: 0;max-width: 0;overflow: hidden;text-align: left;background-color: #f0f8ff;}#sk-container-id-15 div.sk-toggleable__content pre {margin: 0.2em;color: black;border-radius: 0.25em;background-color: #f0f8ff;}#sk-container-id-15 input.sk-toggleable__control:checked~div.sk-toggleable__content {max-height: 200px;max-width: 100%;overflow: auto;}#sk-container-id-15 input.sk-toggleable__control:checked~label.sk-toggleable__label-arrow:before {content: \"▾\";}#sk-container-id-15 div.sk-estimator input.sk-toggleable__control:checked~label.sk-toggleable__label {background-color: #d4ebff;}#sk-container-id-15 div.sk-label input.sk-toggleable__control:checked~label.sk-toggleable__label {background-color: #d4ebff;}#sk-container-id-15 input.sk-hidden--visually {border: 0;clip: rect(1px 1px 1px 1px);clip: rect(1px, 1px, 1px, 1px);height: 1px;margin: -1px;overflow: hidden;padding: 0;position: absolute;width: 1px;}#sk-container-id-15 div.sk-estimator {font-family: monospace;background-color: #f0f8ff;border: 1px dotted black;border-radius: 0.25em;box-sizing: border-box;margin-bottom: 0.5em;}#sk-container-id-15 div.sk-estimator:hover {background-color: #d4ebff;}#sk-container-id-15 div.sk-parallel-item::after {content: \"\";width: 100%;border-bottom: 1px solid gray;flex-grow: 1;}#sk-container-id-15 div.sk-label:hover label.sk-toggleable__label {background-color: #d4ebff;}#sk-container-id-15 div.sk-serial::before {content: \"\";position: absolute;border-left: 1px solid gray;box-sizing: border-box;top: 0;bottom: 0;left: 50%;z-index: 0;}#sk-container-id-15 div.sk-serial {display: flex;flex-direction: column;align-items: center;background-color: white;padding-right: 0.2em;padding-left: 0.2em;position: relative;}#sk-container-id-15 div.sk-item {position: relative;z-index: 1;}#sk-container-id-15 div.sk-parallel {display: flex;align-items: stretch;justify-content: center;background-color: white;position: relative;}#sk-container-id-15 div.sk-item::before, #sk-container-id-15 div.sk-parallel-item::before {content: \"\";position: absolute;border-left: 1px solid gray;box-sizing: border-box;top: 0;bottom: 0;left: 50%;z-index: -1;}#sk-container-id-15 div.sk-parallel-item {display: flex;flex-direction: column;z-index: 1;position: relative;background-color: white;}#sk-container-id-15 div.sk-parallel-item:first-child::after {align-self: flex-end;width: 50%;}#sk-container-id-15 div.sk-parallel-item:last-child::after {align-self: flex-start;width: 50%;}#sk-container-id-15 div.sk-parallel-item:only-child::after {width: 0;}#sk-container-id-15 div.sk-dashed-wrapped {border: 1px dashed gray;margin: 0 0.4em 0.5em 0.4em;box-sizing: border-box;padding-bottom: 0.4em;background-color: white;}#sk-container-id-15 div.sk-label label {font-family: monospace;font-weight: bold;display: inline-block;line-height: 1.2em;}#sk-container-id-15 div.sk-label-container {text-align: center;}#sk-container-id-15 div.sk-container {/* jupyter's `normalize.less` sets `[hidden] { display: none; }` but bootstrap.min.css set `[hidden] { display: none !important; }` so we also need the `!important` here to be able to override the default hidden behavior on the sphinx rendered scikit-learn.org. See: https://github.com/scikit-learn/scikit-learn/issues/21755 */display: inline-block !important;position: relative;}#sk-container-id-15 div.sk-text-repr-fallback {display: none;}</style><div id=\"sk-container-id-15\" class=\"sk-top-container\"><div class=\"sk-text-repr-fallback\"><pre>RandomizedSearchCV(estimator=RandomForestRegressor(), n_iter=30, n_jobs=-1,\n",
       "                   param_distributions={&#x27;criterion&#x27;: [&#x27;squared_error&#x27;,\n",
       "                                                      &#x27;absolute_error&#x27;],\n",
       "                                        &#x27;max_depth&#x27;: range(1, 10, 2),\n",
       "                                        &#x27;max_features&#x27;: [0.25, 0.5, 0.75, 1.0],\n",
       "                                        &#x27;min_samples_leaf&#x27;: range(1, 11, 4),\n",
       "                                        &#x27;min_samples_split&#x27;: range(2, 11, 4),\n",
       "                                        &#x27;n_estimators&#x27;: range(1, 201, 50),\n",
       "                                        &#x27;n_jobs&#x27;: [-1], &#x27;random_state&#x27;: [1]},\n",
       "                   random_state=1, refit=&#x27;neg_mean_absolute_error&#x27;,\n",
       "                   scoring=[&#x27;neg_mean_squared_error&#x27;,\n",
       "                            &#x27;neg_mean_absolute_error&#x27;])</pre><b>In a Jupyter environment, please rerun this cell to show the HTML representation or trust the notebook. <br />On GitHub, the HTML representation is unable to render, please try loading this page with nbviewer.org.</b></div><div class=\"sk-container\" hidden><div class=\"sk-item sk-dashed-wrapped\"><div class=\"sk-label-container\"><div class=\"sk-label sk-toggleable\"><input class=\"sk-toggleable__control sk-hidden--visually\" id=\"sk-estimator-id-21\" type=\"checkbox\" ><label for=\"sk-estimator-id-21\" class=\"sk-toggleable__label sk-toggleable__label-arrow\">RandomizedSearchCV</label><div class=\"sk-toggleable__content\"><pre>RandomizedSearchCV(estimator=RandomForestRegressor(), n_iter=30, n_jobs=-1,\n",
       "                   param_distributions={&#x27;criterion&#x27;: [&#x27;squared_error&#x27;,\n",
       "                                                      &#x27;absolute_error&#x27;],\n",
       "                                        &#x27;max_depth&#x27;: range(1, 10, 2),\n",
       "                                        &#x27;max_features&#x27;: [0.25, 0.5, 0.75, 1.0],\n",
       "                                        &#x27;min_samples_leaf&#x27;: range(1, 11, 4),\n",
       "                                        &#x27;min_samples_split&#x27;: range(2, 11, 4),\n",
       "                                        &#x27;n_estimators&#x27;: range(1, 201, 50),\n",
       "                                        &#x27;n_jobs&#x27;: [-1], &#x27;random_state&#x27;: [1]},\n",
       "                   random_state=1, refit=&#x27;neg_mean_absolute_error&#x27;,\n",
       "                   scoring=[&#x27;neg_mean_squared_error&#x27;,\n",
       "                            &#x27;neg_mean_absolute_error&#x27;])</pre></div></div></div><div class=\"sk-parallel\"><div class=\"sk-parallel-item\"><div class=\"sk-item\"><div class=\"sk-label-container\"><div class=\"sk-label sk-toggleable\"><input class=\"sk-toggleable__control sk-hidden--visually\" id=\"sk-estimator-id-22\" type=\"checkbox\" ><label for=\"sk-estimator-id-22\" class=\"sk-toggleable__label sk-toggleable__label-arrow\">estimator: RandomForestRegressor</label><div class=\"sk-toggleable__content\"><pre>RandomForestRegressor()</pre></div></div></div><div class=\"sk-serial\"><div class=\"sk-item\"><div class=\"sk-estimator sk-toggleable\"><input class=\"sk-toggleable__control sk-hidden--visually\" id=\"sk-estimator-id-23\" type=\"checkbox\" ><label for=\"sk-estimator-id-23\" class=\"sk-toggleable__label sk-toggleable__label-arrow\">RandomForestRegressor</label><div class=\"sk-toggleable__content\"><pre>RandomForestRegressor()</pre></div></div></div></div></div></div></div></div></div></div>"
      ],
      "text/plain": [
       "RandomizedSearchCV(estimator=RandomForestRegressor(), n_iter=30, n_jobs=-1,\n",
       "                   param_distributions={'criterion': ['squared_error',\n",
       "                                                      'absolute_error'],\n",
       "                                        'max_depth': range(1, 10, 2),\n",
       "                                        'max_features': [0.25, 0.5, 0.75, 1.0],\n",
       "                                        'min_samples_leaf': range(1, 11, 4),\n",
       "                                        'min_samples_split': range(2, 11, 4),\n",
       "                                        'n_estimators': range(1, 201, 50),\n",
       "                                        'n_jobs': [-1], 'random_state': [1]},\n",
       "                   random_state=1, refit='neg_mean_absolute_error',\n",
       "                   scoring=['neg_mean_squared_error',\n",
       "                            'neg_mean_absolute_error'])"
      ]
     },
     "execution_count": 136,
     "metadata": {},
     "output_type": "execute_result"
    }
   ],
   "source": [
    "random.fit(X,y)"
   ]
  },
  {
   "cell_type": "code",
   "execution_count": 138,
   "id": "f1a82510",
   "metadata": {},
   "outputs": [
    {
     "data": {
      "text/plain": [
       "{'random_state': 1,\n",
       " 'n_jobs': -1,\n",
       " 'n_estimators': 51,\n",
       " 'min_samples_split': 6,\n",
       " 'min_samples_leaf': 5,\n",
       " 'max_features': 0.75,\n",
       " 'max_depth': 5,\n",
       " 'criterion': 'absolute_error'}"
      ]
     },
     "execution_count": 138,
     "metadata": {},
     "output_type": "execute_result"
    }
   ],
   "source": [
    "random.best_params_"
   ]
  },
  {
   "cell_type": "markdown",
   "id": "a36f67a1",
   "metadata": {},
   "source": [
    "RandomSearchCV vs GridSearchCV"
   ]
  },
  {
   "cell_type": "code",
   "execution_count": 146,
   "id": "f8cbcdd7",
   "metadata": {},
   "outputs": [],
   "source": [
    "grid.best_params_[\"Name\"]=\"GridSearch\"\n",
    "grid.best_params_[\"MSE\"] = -grid.best_score_\n",
    "\n",
    "random.best_params_[\"Name\"]=\"RandomSearch\"\n",
    "random.best_params_[\"MSE\"] = -random.best_score_\n"
   ]
  },
  {
   "cell_type": "code",
   "execution_count": 149,
   "id": "a451b29d",
   "metadata": {},
   "outputs": [
    {
     "data": {
      "text/html": [
       "<div>\n",
       "<style scoped>\n",
       "    .dataframe tbody tr th:only-of-type {\n",
       "        vertical-align: middle;\n",
       "    }\n",
       "\n",
       "    .dataframe tbody tr th {\n",
       "        vertical-align: top;\n",
       "    }\n",
       "\n",
       "    .dataframe thead th {\n",
       "        text-align: right;\n",
       "    }\n",
       "</style>\n",
       "<table border=\"1\" class=\"dataframe\">\n",
       "  <thead>\n",
       "    <tr style=\"text-align: right;\">\n",
       "      <th></th>\n",
       "      <th>criterion</th>\n",
       "      <th>max_depth</th>\n",
       "      <th>max_features</th>\n",
       "      <th>min_samples_leaf</th>\n",
       "      <th>min_samples_split</th>\n",
       "      <th>n_estimators</th>\n",
       "      <th>n_jobs</th>\n",
       "      <th>random_state</th>\n",
       "      <th>MSE</th>\n",
       "    </tr>\n",
       "    <tr>\n",
       "      <th>Name</th>\n",
       "      <th></th>\n",
       "      <th></th>\n",
       "      <th></th>\n",
       "      <th></th>\n",
       "      <th></th>\n",
       "      <th></th>\n",
       "      <th></th>\n",
       "      <th></th>\n",
       "      <th></th>\n",
       "    </tr>\n",
       "  </thead>\n",
       "  <tbody>\n",
       "    <tr>\n",
       "      <th>GridSearch</th>\n",
       "      <td>absolute_error</td>\n",
       "      <td>9</td>\n",
       "      <td>1.00</td>\n",
       "      <td>9</td>\n",
       "      <td>2</td>\n",
       "      <td>151</td>\n",
       "      <td>-1</td>\n",
       "      <td>1</td>\n",
       "      <td>45.147646</td>\n",
       "    </tr>\n",
       "    <tr>\n",
       "      <th>RandomSearch</th>\n",
       "      <td>absolute_error</td>\n",
       "      <td>5</td>\n",
       "      <td>0.75</td>\n",
       "      <td>5</td>\n",
       "      <td>6</td>\n",
       "      <td>51</td>\n",
       "      <td>-1</td>\n",
       "      <td>1</td>\n",
       "      <td>45.322914</td>\n",
       "    </tr>\n",
       "  </tbody>\n",
       "</table>\n",
       "</div>"
      ],
      "text/plain": [
       "                   criterion  max_depth  max_features  min_samples_leaf  \\\n",
       "Name                                                                      \n",
       "GridSearch    absolute_error          9          1.00                 9   \n",
       "RandomSearch  absolute_error          5          0.75                 5   \n",
       "\n",
       "              min_samples_split  n_estimators  n_jobs  random_state        MSE  \n",
       "Name                                                                            \n",
       "GridSearch                    2           151      -1             1  45.147646  \n",
       "RandomSearch                  6            51      -1             1  45.322914  "
      ]
     },
     "execution_count": 149,
     "metadata": {},
     "output_type": "execute_result"
    }
   ],
   "source": [
    "pd.DataFrame([grid.best_params_,random.best_params_]).set_index(\"Name\")"
   ]
  },
  {
   "cell_type": "markdown",
   "id": "9f22edc6",
   "metadata": {},
   "source": [
    "As we can see RandomSearchCV did a good job, it lowered computational cost and found almost as good parameters as GridSearchCV (at least in case of MSE score and random_state=1)"
   ]
  }
 ],
 "metadata": {
  "kernelspec": {
   "display_name": "Python 3 (ipykernel)",
   "language": "python",
   "name": "python3"
  },
  "language_info": {
   "codemirror_mode": {
    "name": "ipython",
    "version": 3
   },
   "file_extension": ".py",
   "mimetype": "text/x-python",
   "name": "python",
   "nbconvert_exporter": "python",
   "pygments_lexer": "ipython3",
   "version": "3.10.4"
  }
 },
 "nbformat": 4,
 "nbformat_minor": 5
}
